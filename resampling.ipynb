{
  "nbformat": 4,
  "nbformat_minor": 0,
  "metadata": {
    "colab": {
      "name": "resampling.ipynb",
      "provenance": [],
      "authorship_tag": "ABX9TyMQuJkU6xllmageHaawOwPP",
      "include_colab_link": true
    },
    "kernelspec": {
      "name": "python3",
      "display_name": "Python 3"
    },
    "language_info": {
      "name": "python"
    }
  },
  "cells": [
    {
      "cell_type": "markdown",
      "metadata": {
        "id": "view-in-github",
        "colab_type": "text"
      },
      "source": [
        "<a href=\"https://colab.research.google.com/github/AdamMcCloskey381/Udemy-ML/blob/main/resampling.ipynb\" target=\"_parent\"><img src=\"https://colab.research.google.com/assets/colab-badge.svg\" alt=\"Open In Colab\"/></a>"
      ]
    },
    {
      "cell_type": "code",
      "execution_count": 82,
      "metadata": {
        "id": "iIxtglTlfe7B"
      },
      "outputs": [],
      "source": [
        "import pandas as pd\n",
        "import numpy as np"
      ]
    },
    {
      "cell_type": "code",
      "source": [
        "df = pd.read_csv(\"/content/daneDMcsv (1).csv\", delimiter = \";\")"
      ],
      "metadata": {
        "id": "73IN3C5GfyL8"
      },
      "execution_count": 83,
      "outputs": []
    },
    {
      "cell_type": "code",
      "source": [
        "df[\"y\"].value_counts()"
      ],
      "metadata": {
        "colab": {
          "base_uri": "https://localhost:8080/"
        },
        "id": "FAwW3lM7izx5",
        "outputId": "89d0c8c3-ac82-4e73-aee7-a98877b31ad5"
      },
      "execution_count": 84,
      "outputs": [
        {
          "output_type": "execute_result",
          "data": {
            "text/plain": [
              "0    3398\n",
              "1     413\n",
              "Name: y, dtype: int64"
            ]
          },
          "metadata": {},
          "execution_count": 84
        }
      ]
    },
    {
      "cell_type": "code",
      "source": [
        "df[\"y\"].value_counts()/len(df)"
      ],
      "metadata": {
        "colab": {
          "base_uri": "https://localhost:8080/"
        },
        "id": "PtAWQ4kXf2Tv",
        "outputId": "5d5ced95-694c-4842-d96a-2d9a2694955d"
      },
      "execution_count": 85,
      "outputs": [
        {
          "output_type": "execute_result",
          "data": {
            "text/plain": [
              "0    0.891629\n",
              "1    0.108371\n",
              "Name: y, dtype: float64"
            ]
          },
          "metadata": {},
          "execution_count": 85
        }
      ]
    },
    {
      "cell_type": "code",
      "source": [
        "df.isna().sum()"
      ],
      "metadata": {
        "colab": {
          "base_uri": "https://localhost:8080/"
        },
        "id": "y912xmy4f-CL",
        "outputId": "61fb95b8-41e0-40d5-9c79-5457332cee12"
      },
      "execution_count": 86,
      "outputs": [
        {
          "output_type": "execute_result",
          "data": {
            "text/plain": [
              "age               0\n",
              "job               0\n",
              "marital           0\n",
              "education         0\n",
              "housing           0\n",
              "loan              0\n",
              "contact           0\n",
              "month             0\n",
              "day_of_week       0\n",
              "campaign          0\n",
              "previous          0\n",
              "poutcome          0\n",
              "cons.price.idx    0\n",
              "cons.conf.idx     0\n",
              "y                 0\n",
              "dtype: int64"
            ]
          },
          "metadata": {},
          "execution_count": 86
        }
      ]
    },
    {
      "cell_type": "code",
      "source": [
        "df.dtypes"
      ],
      "metadata": {
        "colab": {
          "base_uri": "https://localhost:8080/"
        },
        "id": "NlnxOoOWgDOU",
        "outputId": "34c68e2e-6390-4d4f-fd7b-27ed82701d96"
      },
      "execution_count": 87,
      "outputs": [
        {
          "output_type": "execute_result",
          "data": {
            "text/plain": [
              "age                 int64\n",
              "job                 int64\n",
              "marital             int64\n",
              "education           int64\n",
              "housing             int64\n",
              "loan                int64\n",
              "contact             int64\n",
              "month               int64\n",
              "day_of_week         int64\n",
              "campaign            int64\n",
              "previous            int64\n",
              "poutcome            int64\n",
              "cons.price.idx    float64\n",
              "cons.conf.idx     float64\n",
              "y                   int64\n",
              "dtype: object"
            ]
          },
          "metadata": {},
          "execution_count": 87
        }
      ]
    },
    {
      "cell_type": "code",
      "source": [
        "import matplotlib.pyplot as plt\n",
        "import seaborn as sns"
      ],
      "metadata": {
        "id": "F3fW2dbKgOvM"
      },
      "execution_count": 88,
      "outputs": []
    },
    {
      "cell_type": "code",
      "source": [
        "sns.set(font_scale = 0.7)\n",
        "plt.hist(x = df[\"y\"])"
      ],
      "metadata": {
        "colab": {
          "base_uri": "https://localhost:8080/",
          "height": 336
        },
        "id": "v9algK70gSKn",
        "outputId": "defa4155-a4e5-4b06-aeed-80a448e6664a"
      },
      "execution_count": 89,
      "outputs": [
        {
          "output_type": "execute_result",
          "data": {
            "text/plain": [
              "(array([3398.,    0.,    0.,    0.,    0.,    0.,    0.,    0.,    0.,\n",
              "         413.]),\n",
              " array([0. , 0.1, 0.2, 0.3, 0.4, 0.5, 0.6, 0.7, 0.8, 0.9, 1. ]),\n",
              " <a list of 10 Patch objects>)"
            ]
          },
          "metadata": {},
          "execution_count": 89
        },
        {
          "output_type": "display_data",
          "data": {
            "text/plain": [
              "<Figure size 432x288 with 1 Axes>"
            ],
            "image/png": "[encoded data removed]"
          },
          "metadata": {}
        }
      ]
    },
    {
      "cell_type": "code",
      "source": [
        "#resampling the observations\n",
        "X = df.loc[:, df.columns != \"y\"]\n",
        "y = df.loc[:, df.columns == \"y\"]"
      ],
      "metadata": {
        "id": "wxPFgcylgtQJ"
      },
      "execution_count": 90,
      "outputs": []
    },
    {
      "cell_type": "code",
      "source": [
        "from imblearn.under_sampling import RandomUnderSampler\n",
        "rus = RandomUnderSampler(random_state=42)\n",
        "x_res, y_res = rus.fit_resample(X, y)"
      ],
      "metadata": {
        "id": "NOrn3yuOhVhC"
      },
      "execution_count": 91,
      "outputs": []
    },
    {
      "cell_type": "code",
      "source": [
        "x_res = pd.DataFrame(x_res)\n",
        "y_res = pd.DataFrame(y_res)"
      ],
      "metadata": {
        "id": "37WYhp5fh4z9"
      },
      "execution_count": 92,
      "outputs": []
    },
    {
      "cell_type": "code",
      "source": [
        "x_res[\"y\"] = y_res\n",
        "df_resampled = x_res.copy()"
      ],
      "metadata": {
        "id": "LvdnRW5UjoY4"
      },
      "execution_count": 93,
      "outputs": []
    },
    {
      "cell_type": "code",
      "source": [
        "from sklearn.ensemble import RandomForestClassifier"
      ],
      "metadata": {
        "id": "vCRgYhwyjz6O"
      },
      "execution_count": 94,
      "outputs": []
    },
    {
      "cell_type": "code",
      "source": [
        "X_resampled = df_resampled.iloc[:, :-1]\n",
        "y_resampled = df_resampled.iloc[:, -1]"
      ],
      "metadata": {
        "id": "c85zOfLIj3f3"
      },
      "execution_count": 95,
      "outputs": []
    },
    {
      "cell_type": "code",
      "source": [
        "from sklearn.model_selection import train_test_split"
      ],
      "metadata": {
        "id": "z503ZRHUkf31"
      },
      "execution_count": 96,
      "outputs": []
    },
    {
      "cell_type": "code",
      "source": [
        "X_train, X_test, y_train, y_test = train_test_split(X, y, test_size = 0.25, random_state = 42)\n",
        "X_resampled_train, X_resampled_test, y_resampled_train, y_resampled_test = train_test_split(X_resampled, y_resampled, test_size = 0.25, random_state = 42)"
      ],
      "metadata": {
        "id": "U_Lgaa_7kjrD"
      },
      "execution_count": 97,
      "outputs": []
    },
    {
      "cell_type": "code",
      "source": [
        "rfc1 = RandomForestClassifier()\n",
        "rfc2 = RandomForestClassifier()"
      ],
      "metadata": {
        "id": "9H4NDU9ilMZz"
      },
      "execution_count": 98,
      "outputs": []
    },
    {
      "cell_type": "code",
      "source": [
        "y_train = np.ravel(y_train)\n",
        "y_resampled_train = np.ravel(y_resampled_train)\n",
        "rfc1.fit(X_train, y_train)\n",
        "rfc2.fit(X_resampled_train, y_resampled_train)"
      ],
      "metadata": {
        "colab": {
          "base_uri": "https://localhost:8080/"
        },
        "id": "MhTQSThmlSVO",
        "outputId": "73480b89-e8ad-4354-d2a1-8ee76d842d2b"
      },
      "execution_count": 100,
      "outputs": [
        {
          "output_type": "execute_result",
          "data": {
            "text/plain": [
              "RandomForestClassifier()"
            ]
          },
          "metadata": {},
          "execution_count": 100
        }
      ]
    },
    {
      "cell_type": "code",
      "source": [
        "from sklearn.metrics import accuracy_score"
      ],
      "metadata": {
        "id": "b9oTWZ6Sl0zM"
      },
      "execution_count": 101,
      "outputs": []
    },
    {
      "cell_type": "code",
      "source": [
        "score1 = accuracy_score(y_test, rfc1.predict(X_test))\n",
        "score2 = accuracy_score(y_resampled_test, rfc2.predict(X_resampled_test))"
      ],
      "metadata": {
        "id": "4ClpCwP8l46x"
      },
      "execution_count": 104,
      "outputs": []
    },
    {
      "cell_type": "code",
      "source": [
        "score1"
      ],
      "metadata": {
        "colab": {
          "base_uri": "https://localhost:8080/"
        },
        "id": "HXVm-vz3mI4A",
        "outputId": "f71a9697-e325-4b72-c169-e93b8d3f73aa"
      },
      "execution_count": 105,
      "outputs": [
        {
          "output_type": "execute_result",
          "data": {
            "text/plain": [
              "0.8982161594963274"
            ]
          },
          "metadata": {},
          "execution_count": 105
        }
      ]
    },
    {
      "cell_type": "code",
      "source": [
        "score2"
      ],
      "metadata": {
        "colab": {
          "base_uri": "https://localhost:8080/"
        },
        "id": "9Yh9IwAUmKPH",
        "outputId": "2e187686-3c87-441a-e2f4-bd8da1a93afe"
      },
      "execution_count": 107,
      "outputs": [
        {
          "output_type": "execute_result",
          "data": {
            "text/plain": [
              "0.714975845410628"
            ]
          },
          "metadata": {},
          "execution_count": 107
        }
      ]
    },
    {
      "cell_type": "code",
      "source": [
        "from sklearn.model_selection import cross_val_score"
      ],
      "metadata": {
        "id": "wVgYfaWtmlTp"
      },
      "execution_count": 108,
      "outputs": []
    },
    {
      "cell_type": "code",
      "source": [
        "score1 = cross_val_score(rfc1, X_train, y_train, cv = 10, verbose = True, n_jobs=-1)"
      ],
      "metadata": {
        "colab": {
          "base_uri": "https://localhost:8080/"
        },
        "id": "83c5pKOxmme2",
        "outputId": "557faacb-b0a2-41db-d92d-63ada2a1bc22"
      },
      "execution_count": 110,
      "outputs": [
        {
          "output_type": "stream",
          "name": "stderr",
          "text": [
            "[Parallel(n_jobs=-1)]: Using backend LokyBackend with 2 concurrent workers.\n",
            "[Parallel(n_jobs=-1)]: Done  10 out of  10 | elapsed:    6.1s finished\n"
          ]
        }
      ]
    },
    {
      "cell_type": "code",
      "source": [
        "score1.mean()"
      ],
      "metadata": {
        "colab": {
          "base_uri": "https://localhost:8080/"
        },
        "id": "fz70EUwhm4Xx",
        "outputId": "0b361dd4-8dad-4c37-c82a-a7904e720d91"
      },
      "execution_count": 112,
      "outputs": [
        {
          "output_type": "execute_result",
          "data": {
            "text/plain": [
              "0.8964335664335664"
            ]
          },
          "metadata": {},
          "execution_count": 112
        }
      ]
    },
    {
      "cell_type": "code",
      "source": [
        "score2 = cross_val_score(rfc2, X_resampled_train, y_resampled_train, cv = 10, verbose = True, n_jobs=-1)"
      ],
      "metadata": {
        "colab": {
          "base_uri": "https://localhost:8080/"
        },
        "id": "3QjX23NZm8Sx",
        "outputId": "52ce0534-6ccd-456b-ac28-a8e18644a8da"
      },
      "execution_count": 113,
      "outputs": [
        {
          "output_type": "stream",
          "name": "stderr",
          "text": [
            "[Parallel(n_jobs=-1)]: Using backend LokyBackend with 2 concurrent workers.\n",
            "[Parallel(n_jobs=-1)]: Done  10 out of  10 | elapsed:    2.9s finished\n"
          ]
        }
      ]
    },
    {
      "cell_type": "code",
      "source": [
        "score2.mean()"
      ],
      "metadata": {
        "colab": {
          "base_uri": "https://localhost:8080/"
        },
        "id": "fANzJ8ttnNxi",
        "outputId": "1619f4a2-7670-48e7-8dc1-46f18fbdc238"
      },
      "execution_count": 114,
      "outputs": [
        {
          "output_type": "execute_result",
          "data": {
            "text/plain": [
              "0.6945795875198308"
            ]
          },
          "metadata": {},
          "execution_count": 114
        }
      ]
    }
  ]
}